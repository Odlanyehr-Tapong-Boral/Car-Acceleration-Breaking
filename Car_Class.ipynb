{
 "cells": [
  {
   "cell_type": "markdown",
   "id": "95853d21",
   "metadata": {},
   "source": [
    "# A. Car Class\n",
    "Write a class named Car that has the following data attributes:\n",
    "\n",
    "# • _ _year_model (for the car’s year model)\n",
    "# • _ _make (for the make of the car)\n",
    "# • _ _speed (for the car’s current speed)\n",
    "\n",
    "The Car class should have an _ _init_ _ method that accepts the car’s year model and make as arguments. These values\n",
    "should be assigned to the object’s _ _year_model and _ _make data attributes. It should also assign 0 to the _ _speed data\n",
    "attribute.\n",
    "\n",
    "The class should also have the following methods:\n",
    "• accelerate()\n",
    "The accelerate method should add 5 to the speed data attribute each time it is called.\n",
    "• brake()\n",
    "The brake method should subtract 5 from the speed data attribute each time it is called.\n",
    "• get_speed()\n",
    "The get_speed method should return the current speed.\n",
    "\n",
    "Next, design a program that creates a Car object then calls the accelerate method five times. After each call to the\n",
    "accelerate method, get the current speed of the car and display it. Then call the brake method five times. After each call to\n",
    "the brake method, get the current speed of the car and display it."
   ]
  },
  {
   "cell_type": "code",
   "execution_count": null,
   "id": "3a4362b8",
   "metadata": {},
   "outputs": [
    {
     "name": "stdout",
     "output_type": "stream",
     "text": [
      "2013 Lykan Supersport\n",
      "Accelerating:\n",
      "Acceleration 1 :\n",
      "Speed : 5\n",
      "Acceleration 2 :\n",
      "Speed : 10\n",
      "Acceleration 3 :\n",
      "Speed : 15\n",
      "Acceleration 4 :\n",
      "Speed : 20\n",
      "Acceleration 5 :\n",
      "Speed : 25\n",
      "\n",
      "Braking:\n",
      "Braking 1:\n",
      "Speed : 20\n",
      "Braking 2:\n",
      "Speed : 15\n",
      "Braking 3:\n",
      "Speed : 10\n",
      "Braking 4:\n",
      "Speed : 5\n",
      "Braking 5:\n",
      "Speed : 0\n"
     ]
    }
   ],
   "source": [
    "class Car:\n",
    "    def __init__(self, year_model, name):\n",
    "        self.__year_model = year_model\n",
    "        self.__name = name\n",
    "        self.__speed = 0\n",
    "\n",
    "    def accelerate(self):\n",
    "        self.__speed += 5\n",
    "\n",
    "    def brake(self):\n",
    "        self.__speed -= 5\n",
    "\n",
    "    def get_speed(self):\n",
    "        return self.__speed\n",
    "    \n",
    "def main():\n",
    "    car_info = Car(2013, \"Lykan Supersport\")\n",
    "    \n",
    "    print(\"Accelerating:\")\n",
    "    for i in range(5):\n",
    "        car_info.accelerate()\n",
    "        print(f\"Acceleration {i+1} :\")\n",
    "        print(f\"Speed : {car_info.get_speed()}\")\n",
    "        \n",
    "    print()\n",
    "\n",
    "    print(\"Braking:\")\n",
    "    for i in range(5):\n",
    "        car_info.brake()\n",
    "        print(f\"Braking {i+1}:\")\n",
    "        print(f\"Speed : {car_info.get_speed()}\")\n",
    "\n",
    "main()\n",
    "\n"
   ]
  }
 ],
 "metadata": {
  "kernelspec": {
   "display_name": "Python 3",
   "language": "python",
   "name": "python3"
  },
  "language_info": {
   "codemirror_mode": {
    "name": "ipython",
    "version": 3
   },
   "file_extension": ".py",
   "mimetype": "text/x-python",
   "name": "python",
   "nbconvert_exporter": "python",
   "pygments_lexer": "ipython3",
   "version": "3.12.6"
  }
 },
 "nbformat": 4,
 "nbformat_minor": 5
}
