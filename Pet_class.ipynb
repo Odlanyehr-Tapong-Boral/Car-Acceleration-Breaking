{
 "cells": [
  {
   "cell_type": "markdown",
   "id": "f968225b",
   "metadata": {},
   "source": [
    "# B. Pet Class\n",
    "Write a class named Pet, which should have the following data attributes:\n",
    "# • _ _name (for the name of a pet)\n",
    "# • _ _animal_type (for the type of animal that a pet is. Example values are ‘Dog’, ‘Cat’, and ‘Bird’)\n",
    "# • _ _age (for the pet’s age)\n",
    "\n",
    "The Pet class should have an _ _init_ _ method that creates these attributes. It should also have the following methods:\n",
    "# • set_name()\n",
    "This method assigns a value to the _ _name field.\n",
    "# • set_animal_type()\n",
    "This method assigns a value to the _ _animal_type field.\n",
    "# • set_age()\n",
    "This method assigns a value to the _ _age field.\n",
    "# • get_name()\n",
    "This method returns the value of the _ _ name field.\n",
    "# • get_animal_type()\n",
    "This method returns the value of the _ _animal_type field.\n",
    "# • get_age()\n",
    "This method returns the value of the _ _age field.\n",
    "Once you have written the class, write a program that creates an object of the class and prompts the user to enter the name,\n",
    "\n",
    "type, and age of his or her pet. This data should be stored as the object’s attributes. Use the object’s accessor methods to\n",
    "retrieve the pet’s name, type, and age and display this data on the screen."
   ]
  },
  {
   "cell_type": "code",
   "execution_count": 3,
   "id": "bd558dca",
   "metadata": {},
   "outputs": [
    {
     "name": "stdout",
     "output_type": "stream",
     "text": [
      "\n",
      "Pet Information:\n",
      "Name: kisses\n",
      "Animal Type: cat\n",
      "Age: 13\n"
     ]
    }
   ],
   "source": [
    "class Pet:\n",
    "    def __init__(self, name=\"\", animal_type=\"\", age=0):\n",
    "        self.__name = name\n",
    "        self.__animal_type = animal_type\n",
    "        self.__age = age\n",
    "\n",
    "    def set_name(self, name):\n",
    "        self.__name = name\n",
    "\n",
    "    def set_animal_type(self, animal_type):\n",
    "        self.__animal_type = animal_type\n",
    "\n",
    "    def set_age(self, age):\n",
    "        self.__age = age\n",
    "\n",
    "    def get_name(self):\n",
    "        return self.__name\n",
    "\n",
    "    def get_animal_type(self):\n",
    "        return self.__animal_type\n",
    "\n",
    "    def get_age(self):\n",
    "        return self.__age\n",
    "\n",
    "def main():\n",
    "    pet = Pet()\n",
    "\n",
    "    name = input(\"Enter your pet's name: \")\n",
    "    animal_type = input(\"Enter the type of animal (e.g., Dog, Cat, Bird): \")\n",
    "    age = input(\"Enter your pet's age: \")\n",
    "\n",
    "    pet.set_name(name)\n",
    "    pet.set_animal_type(animal_type)\n",
    "    pet.set_age(age)\n",
    "\n",
    "    print(\"\\nPet Information:\")\n",
    "    print(\"Name:\", pet.get_name())\n",
    "    print(\"Animal Type:\", pet.get_animal_type())\n",
    "    print(\"Age:\", pet.get_age())\n",
    "\n",
    "if __name__ == \"__main__\":\n",
    "    main()\n"
   ]
  }
 ],
 "metadata": {
  "kernelspec": {
   "display_name": "Python 3",
   "language": "python",
   "name": "python3"
  },
  "language_info": {
   "codemirror_mode": {
    "name": "ipython",
    "version": 3
   },
   "file_extension": ".py",
   "mimetype": "text/x-python",
   "name": "python",
   "nbconvert_exporter": "python",
   "pygments_lexer": "ipython3",
   "version": "3.12.6"
  }
 },
 "nbformat": 4,
 "nbformat_minor": 5
}
